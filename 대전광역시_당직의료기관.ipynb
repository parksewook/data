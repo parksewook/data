{
  "nbformat": 4,
  "nbformat_minor": 0,
  "metadata": {
    "colab": {
      "name": "대전광역시 당직의료기관.ipynb",
      "provenance": [],
      "collapsed_sections": [],
      "authorship_tag": "ABX9TyNdiwaK9JxcXbl6gUChnjP1",
      "include_colab_link": true
    },
    "kernelspec": {
      "name": "python3",
      "display_name": "Python 3"
    },
    "language_info": {
      "name": "python"
    }
  },
  "cells": [
    {
      "cell_type": "markdown",
      "metadata": {
        "id": "view-in-github",
        "colab_type": "text"
      },
      "source": [
        "<a href=\"https://colab.research.google.com/github/parksewook/data/blob/main/%EB%8C%80%EC%A0%84%EA%B4%91%EC%97%AD%EC%8B%9C_%EB%8B%B9%EC%A7%81%EC%9D%98%EB%A3%8C%EA%B8%B0%EA%B4%80.ipynb\" target=\"_parent\"><img src=\"https://colab.research.google.com/assets/colab-badge.svg\" alt=\"Open In Colab\"/></a>"
      ]
    },
    {
      "cell_type": "markdown",
      "metadata": {
        "id": "P3LweIwYW1Lp"
      },
      "source": [
        "# **대전광역시 당직의료기관 정보를 조회하고 지도에 매핑하는 프로그램**\n"
      ]
    },
    {
      "cell_type": "markdown",
      "metadata": {
        "id": "Nrffo9q9YHYD"
      },
      "source": [
        "### 1. 공공데이터포털에서 대전광역시 당직의료기관정보 api를 요청해서 표의 형태로 1차로 시각화 하기"
      ]
    },
    {
      "cell_type": "code",
      "metadata": {
        "colab": {
          "base_uri": "https://localhost:8080/",
          "height": 635
        },
        "id": "nEeaTtWdo0IE",
        "outputId": "9f8f11fa-f9ef-478e-d587-570d21fc480b"
      },
      "source": [
        "# 필요한 라이브러리 설치\n",
        "import json\n",
        "import pandas as pd\n",
        "from urllib.request import Request, urlopen\n",
        "from urllib.parse import urlencode, quote_plus, quote\n",
        "from pandas.io.json import json_normalize\n",
        "\n",
        "# 원하는 기간의 의료기관 당직일 입력\n",
        "searchkeyword = input(\"조회를 원하는 의료기관 당직일을 입력해 주세요\\nYYYY-MM-DD : \")\n",
        "\n",
        "# 대전광역시 당직의료기관 공공 api를 json형식으로 요청 (요청메세지의 검색(당직일)\n",
        "# (searchKeyword)은 앞에서 입력) (출처 : 공공데이터포털 )\n",
        "url = (\"http://apis.data.go.kr/6300000/hospitalDataService/hospitalDataListJson?serviceKey=sgqqn0iw%2BOkWOrg1ZV5X6mVHgaFoGbXsbLEwh2p3bKPZhWLXKDPdR%2F49%2FtVt%2F3XQbRur9ZiwPomz4Md%2B%2BZ0FVg%3D%3D&numOfRows=10&pageNo=1&searchKeyword=\" + searchkeyword)\n",
        "response = urlopen(url)\n",
        "# 요청한 json파일을 utf-8형식으로 디코딩하여 저장\n",
        "json_api = response.read().decode(\"utf-8\")\n",
        "json_file = json.loads(json_api)\n",
        "\n",
        "# 호출하여 저장한 json데이터의 msgBody부분만 데이터 프레임으로 저장\n",
        "df = pd.DataFrame(json_file['msgBody'])\n",
        "# 데이터 프레임의 열이름 변경후 1차 표의 형태로 시각화\n",
        "df.rename(columns={'addr1':'주소', 'hospitalSeq':'기관일련번호', 'nm':'기관이름', 'phone':'기관전화번호', 'section':'기관구분', 'etc':'응급실 유무'}, inplace=True)\n",
        "df"
      ],
      "execution_count": null,
      "outputs": [
        {
          "name": "stdout",
          "output_type": "stream",
          "text": [
            "조회를 원하는 의료기관 당직일을 입력해 주세요\n",
            "YYYY-MM-DD : 2021-12-17\n"
          ]
        },
        {
          "output_type": "execute_result",
          "data": {
            "text/html": [
              "\n",
              "  <div id=\"df-f9cbca79-fd29-4a66-90f8-ea265b5a1c1b\">\n",
              "    <div class=\"colab-df-container\">\n",
              "      <div>\n",
              "<style scoped>\n",
              "    .dataframe tbody tr th:only-of-type {\n",
              "        vertical-align: middle;\n",
              "    }\n",
              "\n",
              "    .dataframe tbody tr th {\n",
              "        vertical-align: top;\n",
              "    }\n",
              "\n",
              "    .dataframe thead th {\n",
              "        text-align: right;\n",
              "    }\n",
              "</style>\n",
              "<table border=\"1\" class=\"dataframe\">\n",
              "  <thead>\n",
              "    <tr style=\"text-align: right;\">\n",
              "      <th></th>\n",
              "      <th>기관일련번호</th>\n",
              "      <th>기관이름</th>\n",
              "      <th>주소</th>\n",
              "      <th>기관전화번호</th>\n",
              "      <th>기관구분</th>\n",
              "      <th>응급실 유무</th>\n",
              "    </tr>\n",
              "  </thead>\n",
              "  <tbody>\n",
              "    <tr>\n",
              "      <th>0</th>\n",
              "      <td>1</td>\n",
              "      <td>유항외과의원</td>\n",
              "      <td>서구 계룡로 646 (용문동)</td>\n",
              "      <td>042-536-2800</td>\n",
              "      <td>의원</td>\n",
              "      <td>N</td>\n",
              "    </tr>\n",
              "    <tr>\n",
              "      <th>1</th>\n",
              "      <td>13</td>\n",
              "      <td>조은정형외과의원</td>\n",
              "      <td>대덕구 계족산로 2 (중리동)</td>\n",
              "      <td>042-639-7585</td>\n",
              "      <td>의원</td>\n",
              "      <td>N</td>\n",
              "    </tr>\n",
              "    <tr>\n",
              "      <th>2</th>\n",
              "      <td>33</td>\n",
              "      <td>한사랑의원 (둔산동)</td>\n",
              "      <td>서구 문예로 63 (둔산동)</td>\n",
              "      <td>042-486-7577</td>\n",
              "      <td>의원</td>\n",
              "      <td>N</td>\n",
              "    </tr>\n",
              "    <tr>\n",
              "      <th>3</th>\n",
              "      <td>38</td>\n",
              "      <td>순풍산부인과내과의원/금(18시까지)</td>\n",
              "      <td>중구 계백로 1560 (유천동)</td>\n",
              "      <td>042-582-7591</td>\n",
              "      <td>의원</td>\n",
              "      <td>N</td>\n",
              "    </tr>\n",
              "    <tr>\n",
              "      <th>4</th>\n",
              "      <td>42</td>\n",
              "      <td>오정성모의원</td>\n",
              "      <td>대덕구 대전로 1121 (오정동)</td>\n",
              "      <td>042-636-0070</td>\n",
              "      <td>의원</td>\n",
              "      <td>N</td>\n",
              "    </tr>\n",
              "    <tr>\n",
              "      <th>5</th>\n",
              "      <td>46</td>\n",
              "      <td>유성연세의원</td>\n",
              "      <td>유성구 계룡로 48 (봉명동)</td>\n",
              "      <td>042-822-0456</td>\n",
              "      <td>의원</td>\n",
              "      <td>N</td>\n",
              "    </tr>\n",
              "    <tr>\n",
              "      <th>6</th>\n",
              "      <td>57</td>\n",
              "      <td>연합소아청소년과</td>\n",
              "      <td>중구 계백로 1716번길 26 (문화동)</td>\n",
              "      <td>042-221-7533</td>\n",
              "      <td>의원</td>\n",
              "      <td>N</td>\n",
              "    </tr>\n",
              "    <tr>\n",
              "      <th>7</th>\n",
              "      <td>154</td>\n",
              "      <td>더블유여성병원</td>\n",
              "      <td>서구 문정로48번길 70 (탄방동)</td>\n",
              "      <td>042-485-7777</td>\n",
              "      <td>병원(산부인과)</td>\n",
              "      <td>N</td>\n",
              "    </tr>\n",
              "    <tr>\n",
              "      <th>8</th>\n",
              "      <td>162</td>\n",
              "      <td>탄방엠블병원(주말 18시까지)</td>\n",
              "      <td>대전광역시 서구 문정로 48번길 70 (탄방동)</td>\n",
              "      <td>00-1899-3275</td>\n",
              "      <td>병원</td>\n",
              "      <td>N</td>\n",
              "    </tr>\n",
              "    <tr>\n",
              "      <th>9</th>\n",
              "      <td>171</td>\n",
              "      <td>김영소아청소년과의원</td>\n",
              "      <td>동구 은어송로 63</td>\n",
              "      <td>042-272-5119</td>\n",
              "      <td>의원</td>\n",
              "      <td>N</td>\n",
              "    </tr>\n",
              "  </tbody>\n",
              "</table>\n",
              "</div>\n",
              "      <button class=\"colab-df-convert\" onclick=\"convertToInteractive('df-f9cbca79-fd29-4a66-90f8-ea265b5a1c1b')\"\n",
              "              title=\"Convert this dataframe to an interactive table.\"\n",
              "              style=\"display:none;\">\n",
              "        \n",
              "  <svg xmlns=\"http://www.w3.org/2000/svg\" height=\"24px\"viewBox=\"0 0 24 24\"\n",
              "       width=\"24px\">\n",
              "    <path d=\"M0 0h24v24H0V0z\" fill=\"none\"/>\n",
              "    <path d=\"M18.56 5.44l.94 2.06.94-2.06 2.06-.94-2.06-.94-.94-2.06-.94 2.06-2.06.94zm-11 1L8.5 8.5l.94-2.06 2.06-.94-2.06-.94L8.5 2.5l-.94 2.06-2.06.94zm10 10l.94 2.06.94-2.06 2.06-.94-2.06-.94-.94-2.06-.94 2.06-2.06.94z\"/><path d=\"M17.41 7.96l-1.37-1.37c-.4-.4-.92-.59-1.43-.59-.52 0-1.04.2-1.43.59L10.3 9.45l-7.72 7.72c-.78.78-.78 2.05 0 2.83L4 21.41c.39.39.9.59 1.41.59.51 0 1.02-.2 1.41-.59l7.78-7.78 2.81-2.81c.8-.78.8-2.07 0-2.86zM5.41 20L4 18.59l7.72-7.72 1.47 1.35L5.41 20z\"/>\n",
              "  </svg>\n",
              "      </button>\n",
              "      \n",
              "  <style>\n",
              "    .colab-df-container {\n",
              "      display:flex;\n",
              "      flex-wrap:wrap;\n",
              "      gap: 12px;\n",
              "    }\n",
              "\n",
              "    .colab-df-convert {\n",
              "      background-color: #E8F0FE;\n",
              "      border: none;\n",
              "      border-radius: 50%;\n",
              "      cursor: pointer;\n",
              "      display: none;\n",
              "      fill: #1967D2;\n",
              "      height: 32px;\n",
              "      padding: 0 0 0 0;\n",
              "      width: 32px;\n",
              "    }\n",
              "\n",
              "    .colab-df-convert:hover {\n",
              "      background-color: #E2EBFA;\n",
              "      box-shadow: 0px 1px 2px rgba(60, 64, 67, 0.3), 0px 1px 3px 1px rgba(60, 64, 67, 0.15);\n",
              "      fill: #174EA6;\n",
              "    }\n",
              "\n",
              "    [theme=dark] .colab-df-convert {\n",
              "      background-color: #3B4455;\n",
              "      fill: #D2E3FC;\n",
              "    }\n",
              "\n",
              "    [theme=dark] .colab-df-convert:hover {\n",
              "      background-color: #434B5C;\n",
              "      box-shadow: 0px 1px 3px 1px rgba(0, 0, 0, 0.15);\n",
              "      filter: drop-shadow(0px 1px 2px rgba(0, 0, 0, 0.3));\n",
              "      fill: #FFFFFF;\n",
              "    }\n",
              "  </style>\n",
              "\n",
              "      <script>\n",
              "        const buttonEl =\n",
              "          document.querySelector('#df-f9cbca79-fd29-4a66-90f8-ea265b5a1c1b button.colab-df-convert');\n",
              "        buttonEl.style.display =\n",
              "          google.colab.kernel.accessAllowed ? 'block' : 'none';\n",
              "\n",
              "        async function convertToInteractive(key) {\n",
              "          const element = document.querySelector('#df-f9cbca79-fd29-4a66-90f8-ea265b5a1c1b');\n",
              "          const dataTable =\n",
              "            await google.colab.kernel.invokeFunction('convertToInteractive',\n",
              "                                                     [key], {});\n",
              "          if (!dataTable) return;\n",
              "\n",
              "          const docLinkHtml = 'Like what you see? Visit the ' +\n",
              "            '<a target=\"_blank\" href=https://colab.research.google.com/notebooks/data_table.ipynb>data table notebook</a>'\n",
              "            + ' to learn more about interactive tables.';\n",
              "          element.innerHTML = '';\n",
              "          dataTable['output_type'] = 'display_data';\n",
              "          await google.colab.output.renderOutput(dataTable, element);\n",
              "          const docLink = document.createElement('div');\n",
              "          docLink.innerHTML = docLinkHtml;\n",
              "          element.appendChild(docLink);\n",
              "        }\n",
              "      </script>\n",
              "    </div>\n",
              "  </div>\n",
              "  "
            ],
            "text/plain": [
              "   기관일련번호                 기관이름  ...      기관구분 응급실 유무\n",
              "0       1               유항외과의원  ...        의원      N\n",
              "1      13             조은정형외과의원  ...        의원      N\n",
              "2      33          한사랑의원 (둔산동)  ...        의원      N\n",
              "3      38  순풍산부인과내과의원/금(18시까지)  ...        의원      N\n",
              "4      42               오정성모의원  ...        의원      N\n",
              "5      46               유성연세의원  ...        의원      N\n",
              "6      57             연합소아청소년과  ...        의원      N\n",
              "7     154              더블유여성병원  ...  병원(산부인과)      N\n",
              "8     162     탄방엠블병원(주말 18시까지)  ...        병원      N\n",
              "9     171           김영소아청소년과의원  ...        의원      N\n",
              "\n",
              "[10 rows x 6 columns]"
            ]
          },
          "metadata": {},
          "execution_count": 2
        }
      ]
    },
    {
      "cell_type": "markdown",
      "metadata": {
        "id": "sHxm3NC0bzVS"
      },
      "source": [
        "### 2. 당직의료기관의 매핑을 위해, 앞서 만들어진 데이터의 전처리 및 vworld geocoding api를 사용해 '주소' 데이터를 '좌표값'으로 geocoding 하기"
      ]
    },
    {
      "cell_type": "code",
      "metadata": {
        "colab": {
          "base_uri": "https://localhost:8080/",
          "height": 137
        },
        "id": "8RB4eBBzIJkj",
        "outputId": "a8fbaba7-b65a-4697-f9bd-af7b657041d6"
      },
      "source": [
        "# 앞서 전처리한 데이터에서 '주소'데이터만 추출해 list형태로 변환\n",
        "addr = df['주소']\n",
        "addr_list = addr.values.tolist()\n",
        "# 변화한 위도, 경보 데이터를 넣기위한 빈 list 생성 \n",
        "lis_lat = []\n",
        "lis_lng = []\n",
        "\n",
        "# vworld api 어플리케이션 key\n",
        "vworld_apikey = \"73D1B383-F544-3D19-90BB-9EFA4F7C42FE\"\n",
        "\n",
        "\n",
        "for addr2 in addr_list:\n",
        "  \n",
        "  # vworld의 geocoding api 호출\n",
        "  geourl = \"http://api.vworld.kr/req/address?service=address&request=getCoord&type=ROAD&refine=false&key=%s&\" \\ \n",
        "   % (vworld_apikey) + urlencode({quote_plus('address'):addr2}, encoding='UTF-8')\n",
        "\n",
        "  request = Request(geourl)\n",
        "  response = urlopen(request)\n",
        "  rescode = response.getcode()\n",
        "\n",
        "  if rescode == 200:\n",
        "    response_body = response.read().decode('utf-8')\n",
        "  else:\n",
        "    print('error code:', rescode)\n",
        "\n",
        "  # 호출된 데이터에서 y와 x의 값만 list에 저장\n",
        "  jsonData = json.loads(response_body)\n",
        "  lat = float(jsonData['response']['result']['point']['y'])\n",
        "  lis_lat.append(lat)\n",
        "  lng = float(jsonData['response']['result']['point']['x'])\n",
        "  lis_lng.append(lng)\n",
        "\n",
        "# 위도, 경도 두 list를 dataframe로 변환후 df의 기관이름 열까지 지도 매핑을 위한 데이터 정제\n",
        "df_lat = pd.DataFrame(lis_lat, columns=['y'])\n",
        "df_lng = pd.DataFrame(lis_lng, columns=['x'])\n",
        "df_point = pd.concat([df['기관이름'], df_lat, df_lng], axis=1)\n",
        "df_point"
      ],
      "execution_count": null,
      "outputs": [
        {
          "output_type": "error",
          "ename": "SyntaxError",
          "evalue": "ignored",
          "traceback": [
            "\u001b[0;36m  File \u001b[0;32m\"<ipython-input-3-f49d16725ff1>\"\u001b[0;36m, line \u001b[0;32m15\u001b[0m\n\u001b[0;31m    geourl = \"http://api.vworld.kr/req/address?service=address&request=getCoord&type=ROAD&refine=false&key=%s&\" \\\u001b[0m\n\u001b[0m                                                                                                                  ^\u001b[0m\n\u001b[0;31mSyntaxError\u001b[0m\u001b[0;31m:\u001b[0m unexpected character after line continuation character\n"
          ]
        }
      ]
    },
    {
      "cell_type": "markdown",
      "metadata": {
        "id": "AFi5w1wmcraq"
      },
      "source": [
        "### 3. geocoding으로 구해진 좌표값과 '기관이름' 데이터를 이용해 지도 매핑과 툴팁으로 2차 시각화"
      ]
    },
    {
      "cell_type": "code",
      "metadata": {
        "id": "Y6xrrdLmRbN6"
      },
      "source": [
        "import folium\n",
        "\n",
        "# 검색기간의 모든 당직의료기관 중심으로 맵 초기 카메라 위치 설정\n",
        "lat = df_point['y'].mean()\n",
        "lng = df_point['x'].mean()\n",
        "\n",
        "hospitalMap = folium.Map([lat, lng], zoom_start=12)\n",
        "\n",
        "# 정제된 위도와 경도로 당직의료기관 매핑\n",
        "for i in df_point.index:\n",
        "  sub_lat = df_point.loc[i,'y']\n",
        "  sub_lng = df_point.loc[i, 'x']\n",
        "\n",
        "  title = df_point.loc[i,'기관이름']\n",
        "\n",
        "  folium.Marker([sub_lat, sub_lng], tooltip = title).add_to(hospitalMap)\n",
        "\n",
        "hospitalMap"
      ],
      "execution_count": null,
      "outputs": []
    }
  ]
}